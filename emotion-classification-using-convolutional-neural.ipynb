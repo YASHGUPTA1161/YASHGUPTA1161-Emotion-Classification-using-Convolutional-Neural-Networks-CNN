{
 "cells": [
  {
   "cell_type": "markdown",
   "id": "8dea1852",
   "metadata": {
    "papermill": {
     "duration": 0.00711,
     "end_time": "2025-04-20T20:15:58.947499",
     "exception": false,
     "start_time": "2025-04-20T20:15:58.940389",
     "status": "completed"
    },
    "tags": []
   },
   "source": [
    "# Emotion Classification in texts using LSTM and Word2Vec\n",
    "\n",
    "### Architecture: \n",
    "(X) Text -> Embedding (W2V pretrained on wikipedia articles) -> Deep Network (CNN 1D) -> Fully connected (Dense) -> Output Layer (Softmax) -> Emotion class (Y)\n",
    "\n",
    "#### Embedding Layer\n",
    "* Word Embedding is a representation of text where words that have the similar meaning have a similar representation. We will use 300 dimentional word vectors pre-trained on wikipedia articles. We can also train the w2v model with our data, however our dataset is quite small and trained word vectors might not be as good as using pretrained w2v.\n",
    "\n",
    "#### Deep Network\n",
    "* Though text data is one-dimensional, we can use 1D convolutional neural networks to extract features from our data. The result of each convolution will fire when a special pattern is detected. By varying the size of the kernels and concatenating their outputs, you’re allowing yourself to detect patterns of multiples sizes (2, 3, or 5 adjacent words). Patterns could be expressions like “I hate”, “very good” and therefore CNNs can identify them in the sentence regardless of their position. \n",
    "\n",
    "#### Fully Connected Layer\n",
    "* The fully connected layer takes the deep representation from the RNN/LSTM/GRU and transforms it into the final output classes or class scores. This component is comprised of fully connected layers along with batch normalization and optionally dropout layers for regularization.\n",
    "\n",
    "#### Output Layer\n",
    "* Based on the problem at hand, this layer can have either Sigmoid for binary classification or Softmax for both binary and multi classification output."
   ]
  },
  {
   "cell_type": "markdown",
   "id": "03961f46",
   "metadata": {
    "papermill": {
     "duration": 0.005625,
     "end_time": "2025-04-20T20:15:58.959304",
     "exception": false,
     "start_time": "2025-04-20T20:15:58.953679",
     "status": "completed"
    },
    "tags": []
   },
   "source": [
    "## Workflow: \n",
    "1. Import Data\n",
    "2. Prepare the input data\n",
    "3. Import pre-trained W2V\n",
    "4. Create Neural Network Pipeline\n",
    "5. Train The Model\n",
    "6. Evaluate results\n",
    "\n",
    "\n",
    "\n",
    "👋  **Let's start** "
   ]
  },
  {
   "cell_type": "markdown",
   "id": "cdba064e",
   "metadata": {
    "papermill": {
     "duration": 0.005554,
     "end_time": "2025-04-20T20:15:58.970576",
     "exception": false,
     "start_time": "2025-04-20T20:15:58.965022",
     "status": "completed"
    },
    "tags": []
   },
   "source": [
    "## 1. Import Data\n"
   ]
  },
  {
   "cell_type": "code",
   "execution_count": 1,
   "id": "1b82db57",
   "metadata": {
    "execution": {
     "iopub.execute_input": "2025-04-20T20:15:58.983065Z",
     "iopub.status.busy": "2025-04-20T20:15:58.982798Z",
     "iopub.status.idle": "2025-04-20T20:16:02.971522Z",
     "shell.execute_reply": "2025-04-20T20:16:02.970813Z"
    },
    "papermill": {
     "duration": 3.997037,
     "end_time": "2025-04-20T20:16:02.973321",
     "exception": false,
     "start_time": "2025-04-20T20:15:58.976284",
     "status": "completed"
    },
    "tags": []
   },
   "outputs": [
    {
     "name": "stdout",
     "output_type": "stream",
     "text": [
      "Requirement already satisfied: pandas in /usr/local/lib/python3.11/dist-packages (2.2.3)\r\n",
      "Requirement already satisfied: numpy in /usr/local/lib/python3.11/dist-packages (1.26.4)\r\n",
      "Requirement already satisfied: nltk in /usr/local/lib/python3.11/dist-packages (3.9.1)\r\n",
      "Requirement already satisfied: matplotlib in /usr/local/lib/python3.11/dist-packages (3.7.5)\r\n",
      "Requirement already satisfied: scikit-learn in /usr/local/lib/python3.11/dist-packages (1.2.2)\r\n",
      "Requirement already satisfied: keras in /usr/local/lib/python3.11/dist-packages (3.5.0)\r\n",
      "Requirement already satisfied: tensorflow in /usr/local/lib/python3.11/dist-packages (2.18.0)\r\n",
      "Requirement already satisfied: python-dateutil>=2.8.2 in /usr/local/lib/python3.11/dist-packages (from pandas) (2.9.0.post0)\r\n",
      "Requirement already satisfied: pytz>=2020.1 in /usr/local/lib/python3.11/dist-packages (from pandas) (2025.2)\r\n",
      "Requirement already satisfied: tzdata>=2022.7 in /usr/local/lib/python3.11/dist-packages (from pandas) (2025.2)\r\n",
      "Requirement already satisfied: mkl_fft in /usr/local/lib/python3.11/dist-packages (from numpy) (1.3.8)\r\n",
      "Requirement already satisfied: mkl_random in /usr/local/lib/python3.11/dist-packages (from numpy) (1.2.4)\r\n",
      "Requirement already satisfied: mkl_umath in /usr/local/lib/python3.11/dist-packages (from numpy) (0.1.1)\r\n",
      "Requirement already satisfied: mkl in /usr/local/lib/python3.11/dist-packages (from numpy) (2025.1.0)\r\n",
      "Requirement already satisfied: tbb4py in /usr/local/lib/python3.11/dist-packages (from numpy) (2022.1.0)\r\n",
      "Requirement already satisfied: mkl-service in /usr/local/lib/python3.11/dist-packages (from numpy) (2.4.1)\r\n",
      "Requirement already satisfied: click in /usr/local/lib/python3.11/dist-packages (from nltk) (8.1.8)\r\n",
      "Requirement already satisfied: joblib in /usr/local/lib/python3.11/dist-packages (from nltk) (1.4.2)\r\n",
      "Requirement already satisfied: regex>=2021.8.3 in /usr/local/lib/python3.11/dist-packages (from nltk) (2024.11.6)\r\n",
      "Requirement already satisfied: tqdm in /usr/local/lib/python3.11/dist-packages (from nltk) (4.67.1)\r\n",
      "Requirement already satisfied: contourpy>=1.0.1 in /usr/local/lib/python3.11/dist-packages (from matplotlib) (1.3.1)\r\n",
      "Requirement already satisfied: cycler>=0.10 in /usr/local/lib/python3.11/dist-packages (from matplotlib) (0.12.1)\r\n",
      "Requirement already satisfied: fonttools>=4.22.0 in /usr/local/lib/python3.11/dist-packages (from matplotlib) (4.56.0)\r\n",
      "Requirement already satisfied: kiwisolver>=1.0.1 in /usr/local/lib/python3.11/dist-packages (from matplotlib) (1.4.8)\r\n",
      "Requirement already satisfied: packaging>=20.0 in /usr/local/lib/python3.11/dist-packages (from matplotlib) (24.2)\r\n",
      "Requirement already satisfied: pillow>=6.2.0 in /usr/local/lib/python3.11/dist-packages (from matplotlib) (11.1.0)\r\n",
      "Requirement already satisfied: pyparsing>=2.3.1 in /usr/local/lib/python3.11/dist-packages (from matplotlib) (3.2.1)\r\n",
      "Requirement already satisfied: scipy>=1.3.2 in /usr/local/lib/python3.11/dist-packages (from scikit-learn) (1.15.2)\r\n",
      "Requirement already satisfied: threadpoolctl>=2.0.0 in /usr/local/lib/python3.11/dist-packages (from scikit-learn) (3.6.0)\r\n",
      "Requirement already satisfied: absl-py in /usr/local/lib/python3.11/dist-packages (from keras) (1.4.0)\r\n",
      "Requirement already satisfied: rich in /usr/local/lib/python3.11/dist-packages (from keras) (14.0.0)\r\n",
      "Requirement already satisfied: namex in /usr/local/lib/python3.11/dist-packages (from keras) (0.0.8)\r\n",
      "Requirement already satisfied: h5py in /usr/local/lib/python3.11/dist-packages (from keras) (3.12.1)\r\n",
      "Requirement already satisfied: optree in /usr/local/lib/python3.11/dist-packages (from keras) (0.14.0)\r\n",
      "Requirement already satisfied: ml-dtypes in /usr/local/lib/python3.11/dist-packages (from keras) (0.4.1)\r\n",
      "Requirement already satisfied: astunparse>=1.6.0 in /usr/local/lib/python3.11/dist-packages (from tensorflow) (1.6.3)\r\n",
      "Requirement already satisfied: flatbuffers>=24.3.25 in /usr/local/lib/python3.11/dist-packages (from tensorflow) (25.2.10)\r\n",
      "Requirement already satisfied: gast!=0.5.0,!=0.5.1,!=0.5.2,>=0.2.1 in /usr/local/lib/python3.11/dist-packages (from tensorflow) (0.6.0)\r\n",
      "Requirement already satisfied: google-pasta>=0.1.1 in /usr/local/lib/python3.11/dist-packages (from tensorflow) (0.2.0)\r\n",
      "Requirement already satisfied: libclang>=13.0.0 in /usr/local/lib/python3.11/dist-packages (from tensorflow) (18.1.1)\r\n",
      "Requirement already satisfied: opt-einsum>=2.3.2 in /usr/local/lib/python3.11/dist-packages (from tensorflow) (3.4.0)\r\n",
      "Requirement already satisfied: protobuf!=4.21.0,!=4.21.1,!=4.21.2,!=4.21.3,!=4.21.4,!=4.21.5,<6.0.0dev,>=3.20.3 in /usr/local/lib/python3.11/dist-packages (from tensorflow) (3.20.3)\r\n",
      "Requirement already satisfied: requests<3,>=2.21.0 in /usr/local/lib/python3.11/dist-packages (from tensorflow) (2.32.3)\r\n",
      "Requirement already satisfied: setuptools in /usr/local/lib/python3.11/dist-packages (from tensorflow) (75.1.0)\r\n",
      "Requirement already satisfied: six>=1.12.0 in /usr/local/lib/python3.11/dist-packages (from tensorflow) (1.17.0)\r\n",
      "Requirement already satisfied: termcolor>=1.1.0 in /usr/local/lib/python3.11/dist-packages (from tensorflow) (2.5.0)\r\n",
      "Requirement already satisfied: typing-extensions>=3.6.6 in /usr/local/lib/python3.11/dist-packages (from tensorflow) (4.13.1)\r\n",
      "Requirement already satisfied: wrapt>=1.11.0 in /usr/local/lib/python3.11/dist-packages (from tensorflow) (1.17.2)\r\n",
      "Requirement already satisfied: grpcio<2.0,>=1.24.3 in /usr/local/lib/python3.11/dist-packages (from tensorflow) (1.70.0)\r\n",
      "Requirement already satisfied: tensorboard<2.19,>=2.18 in /usr/local/lib/python3.11/dist-packages (from tensorflow) (2.18.0)\r\n",
      "Requirement already satisfied: tensorflow-io-gcs-filesystem>=0.23.1 in /usr/local/lib/python3.11/dist-packages (from tensorflow) (0.37.1)\r\n",
      "Requirement already satisfied: wheel<1.0,>=0.23.0 in /usr/local/lib/python3.11/dist-packages (from astunparse>=1.6.0->tensorflow) (0.45.1)\r\n",
      "Requirement already satisfied: charset-normalizer<4,>=2 in /usr/local/lib/python3.11/dist-packages (from requests<3,>=2.21.0->tensorflow) (3.4.1)\r\n",
      "Requirement already satisfied: idna<4,>=2.5 in /usr/local/lib/python3.11/dist-packages (from requests<3,>=2.21.0->tensorflow) (3.10)\r\n",
      "Requirement already satisfied: urllib3<3,>=1.21.1 in /usr/local/lib/python3.11/dist-packages (from requests<3,>=2.21.0->tensorflow) (2.3.0)\r\n",
      "Requirement already satisfied: certifi>=2017.4.17 in /usr/local/lib/python3.11/dist-packages (from requests<3,>=2.21.0->tensorflow) (2025.1.31)\r\n",
      "Requirement already satisfied: markdown>=2.6.8 in /usr/local/lib/python3.11/dist-packages (from tensorboard<2.19,>=2.18->tensorflow) (3.7)\r\n",
      "Requirement already satisfied: tensorboard-data-server<0.8.0,>=0.7.0 in /usr/local/lib/python3.11/dist-packages (from tensorboard<2.19,>=2.18->tensorflow) (0.7.2)\r\n",
      "Requirement already satisfied: werkzeug>=1.0.1 in /usr/local/lib/python3.11/dist-packages (from tensorboard<2.19,>=2.18->tensorflow) (3.1.3)\r\n",
      "Requirement already satisfied: intel-openmp<2026,>=2024 in /usr/local/lib/python3.11/dist-packages (from mkl->numpy) (2024.2.0)\r\n",
      "Requirement already satisfied: tbb==2022.* in /usr/local/lib/python3.11/dist-packages (from mkl->numpy) (2022.1.0)\r\n",
      "Requirement already satisfied: tcmlib==1.* in /usr/local/lib/python3.11/dist-packages (from tbb==2022.*->mkl->numpy) (1.2.0)\r\n",
      "Requirement already satisfied: intel-cmplr-lib-rt in /usr/local/lib/python3.11/dist-packages (from mkl_umath->numpy) (2024.2.0)\r\n",
      "Requirement already satisfied: markdown-it-py>=2.2.0 in /usr/local/lib/python3.11/dist-packages (from rich->keras) (3.0.0)\r\n",
      "Requirement already satisfied: pygments<3.0.0,>=2.13.0 in /usr/local/lib/python3.11/dist-packages (from rich->keras) (2.19.1)\r\n",
      "Requirement already satisfied: intel-cmplr-lib-ur==2024.2.0 in /usr/local/lib/python3.11/dist-packages (from intel-openmp<2026,>=2024->mkl->numpy) (2024.2.0)\r\n",
      "Requirement already satisfied: mdurl~=0.1 in /usr/local/lib/python3.11/dist-packages (from markdown-it-py>=2.2.0->rich->keras) (0.1.2)\r\n",
      "Requirement already satisfied: MarkupSafe>=2.1.1 in /usr/local/lib/python3.11/dist-packages (from werkzeug>=1.0.1->tensorboard<2.19,>=2.18->tensorflow) (3.0.2)\r\n"
     ]
    }
   ],
   "source": [
    "!pip install pandas numpy nltk matplotlib scikit-learn keras tensorflow\n"
   ]
  },
  {
   "cell_type": "code",
   "execution_count": 2,
   "id": "f14795e4",
   "metadata": {
    "execution": {
     "iopub.execute_input": "2025-04-20T20:16:02.987891Z",
     "iopub.status.busy": "2025-04-20T20:16:02.987643Z",
     "iopub.status.idle": "2025-04-20T20:16:17.892580Z",
     "shell.execute_reply": "2025-04-20T20:16:17.892009Z"
    },
    "papermill": {
     "duration": 14.913814,
     "end_time": "2025-04-20T20:16:17.894003",
     "exception": false,
     "start_time": "2025-04-20T20:16:02.980189",
     "status": "completed"
    },
    "tags": []
   },
   "outputs": [
    {
     "name": "stderr",
     "output_type": "stream",
     "text": [
      "2025-04-20 20:16:07.531913: E external/local_xla/xla/stream_executor/cuda/cuda_fft.cc:477] Unable to register cuFFT factory: Attempting to register factory for plugin cuFFT when one has already been registered\n",
      "WARNING: All log messages before absl::InitializeLog() is called are written to STDERR\n",
      "E0000 00:00:1745180167.726922      19 cuda_dnn.cc:8310] Unable to register cuDNN factory: Attempting to register factory for plugin cuDNN when one has already been registered\n",
      "E0000 00:00:1745180167.784412      19 cuda_blas.cc:1418] Unable to register cuBLAS factory: Attempting to register factory for plugin cuBLAS when one has already been registered\n"
     ]
    }
   ],
   "source": [
    "import pandas as pd\n",
    "import numpy as np\n",
    "\n",
    "# text preprocessing\n",
    "from nltk.tokenize import word_tokenize\n",
    "import re\n",
    "\n",
    "# plots and metrics\n",
    "import matplotlib.pyplot as plt\n",
    "from sklearn.metrics import accuracy_score, f1_score, confusion_matrix\n",
    "\n",
    "# preparing input to our model\n",
    "from tensorflow.keras.preprocessing.text import Tokenizer\n",
    "from tensorflow.keras.preprocessing.sequence import pad_sequences\n",
    "from tensorflow.keras.utils import to_categorical\n",
    "\n",
    "# keras layers\n",
    "from keras.models import Sequential\n",
    "from keras.layers import Embedding, Conv1D, GlobalMaxPooling1D, Dense"
   ]
  },
  {
   "cell_type": "markdown",
   "id": "a97b549c",
   "metadata": {
    "papermill": {
     "duration": 0.005989,
     "end_time": "2025-04-20T20:16:17.907524",
     "exception": false,
     "start_time": "2025-04-20T20:16:17.901535",
     "status": "completed"
    },
    "tags": []
   },
   "source": [
    "Defining vector space dimension and fixed input size"
   ]
  },
  {
   "cell_type": "code",
   "execution_count": 3,
   "id": "b6ccabb8",
   "metadata": {
    "execution": {
     "iopub.execute_input": "2025-04-20T20:16:17.921004Z",
     "iopub.status.busy": "2025-04-20T20:16:17.920209Z",
     "iopub.status.idle": "2025-04-20T20:16:17.923929Z",
     "shell.execute_reply": "2025-04-20T20:16:17.923404Z"
    },
    "papermill": {
     "duration": 0.011413,
     "end_time": "2025-04-20T20:16:17.924961",
     "exception": false,
     "start_time": "2025-04-20T20:16:17.913548",
     "status": "completed"
    },
    "tags": []
   },
   "outputs": [],
   "source": [
    "# Number of labels: joy, anger, fear, sadness, neutral\n",
    "num_classes = 5\n",
    "\n",
    "# Number of dimensions for word embedding\n",
    "embed_num_dims = 300\n",
    "\n",
    "# Max input length (max number of words) \n",
    "max_seq_len = 500\n",
    "\n",
    "class_names = ['joy', 'fear', 'anger', 'sadness', 'neutral']"
   ]
  },
  {
   "cell_type": "markdown",
   "id": "34b97f63",
   "metadata": {
    "papermill": {
     "duration": 0.005905,
     "end_time": "2025-04-20T20:16:17.937019",
     "exception": false,
     "start_time": "2025-04-20T20:16:17.931114",
     "status": "completed"
    },
    "tags": []
   },
   "source": [
    "Importing our training and testing datasets"
   ]
  },
  {
   "cell_type": "code",
   "execution_count": 4,
   "id": "2b11999e",
   "metadata": {
    "execution": {
     "iopub.execute_input": "2025-04-20T20:16:17.950186Z",
     "iopub.status.busy": "2025-04-20T20:16:17.949664Z",
     "iopub.status.idle": "2025-04-20T20:16:18.000320Z",
     "shell.execute_reply": "2025-04-20T20:16:17.999837Z"
    },
    "papermill": {
     "duration": 0.058405,
     "end_time": "2025-04-20T20:16:18.001449",
     "exception": false,
     "start_time": "2025-04-20T20:16:17.943044",
     "status": "completed"
    },
    "tags": []
   },
   "outputs": [],
   "source": [
    "data_train = pd.read_csv('/kaggle/input/emotion-dataset/data_train.csv', encoding='utf-8')\n",
    "data_test = pd.read_csv('/kaggle/input/emotion-dataset/data_test.csv', encoding='utf-8')\n",
    "\n",
    "X_train = data_train.Text\n",
    "X_test = data_test.Text\n",
    "\n",
    "y_train = data_train.Emotion\n",
    "y_test = data_test.Emotion\n",
    "\n",
    "data = pd.concat([data_train, data_test], ignore_index=True)\n"
   ]
  },
  {
   "cell_type": "code",
   "execution_count": 5,
   "id": "4f285df7",
   "metadata": {
    "execution": {
     "iopub.execute_input": "2025-04-20T20:16:18.015241Z",
     "iopub.status.busy": "2025-04-20T20:16:18.015038Z",
     "iopub.status.idle": "2025-04-20T20:16:18.034372Z",
     "shell.execute_reply": "2025-04-20T20:16:18.033852Z"
    },
    "papermill": {
     "duration": 0.027041,
     "end_time": "2025-04-20T20:16:18.035311",
     "exception": false,
     "start_time": "2025-04-20T20:16:18.008270",
     "status": "completed"
    },
    "tags": []
   },
   "outputs": [
    {
     "name": "stdout",
     "output_type": "stream",
     "text": [
      "Emotion\n",
      "joy        2326\n",
      "sadness    2317\n",
      "anger      2259\n",
      "neutral    2254\n",
      "fear       2171\n",
      "Name: count, dtype: int64\n"
     ]
    },
    {
     "data": {
      "text/html": [
       "<div>\n",
       "<style scoped>\n",
       "    .dataframe tbody tr th:only-of-type {\n",
       "        vertical-align: middle;\n",
       "    }\n",
       "\n",
       "    .dataframe tbody tr th {\n",
       "        vertical-align: top;\n",
       "    }\n",
       "\n",
       "    .dataframe thead th {\n",
       "        text-align: right;\n",
       "    }\n",
       "</style>\n",
       "<table border=\"1\" class=\"dataframe\">\n",
       "  <thead>\n",
       "    <tr style=\"text-align: right;\">\n",
       "      <th></th>\n",
       "      <th>Emotion</th>\n",
       "      <th>Text</th>\n",
       "    </tr>\n",
       "  </thead>\n",
       "  <tbody>\n",
       "    <tr>\n",
       "      <th>0</th>\n",
       "      <td>neutral</td>\n",
       "      <td>There are tons of other paintings that I thin...</td>\n",
       "    </tr>\n",
       "    <tr>\n",
       "      <th>1</th>\n",
       "      <td>sadness</td>\n",
       "      <td>Yet the dog had grown old and less capable , a...</td>\n",
       "    </tr>\n",
       "    <tr>\n",
       "      <th>2</th>\n",
       "      <td>fear</td>\n",
       "      <td>When I get into the tube or the train without ...</td>\n",
       "    </tr>\n",
       "    <tr>\n",
       "      <th>3</th>\n",
       "      <td>fear</td>\n",
       "      <td>This last may be a source of considerable disq...</td>\n",
       "    </tr>\n",
       "    <tr>\n",
       "      <th>4</th>\n",
       "      <td>anger</td>\n",
       "      <td>She disliked the intimacy he showed towards so...</td>\n",
       "    </tr>\n",
       "    <tr>\n",
       "      <th>5</th>\n",
       "      <td>sadness</td>\n",
       "      <td>When my family heard that my Mother's cousin w...</td>\n",
       "    </tr>\n",
       "  </tbody>\n",
       "</table>\n",
       "</div>"
      ],
      "text/plain": [
       "   Emotion                                               Text\n",
       "0  neutral   There are tons of other paintings that I thin...\n",
       "1  sadness  Yet the dog had grown old and less capable , a...\n",
       "2     fear  When I get into the tube or the train without ...\n",
       "3     fear  This last may be a source of considerable disq...\n",
       "4    anger  She disliked the intimacy he showed towards so...\n",
       "5  sadness  When my family heard that my Mother's cousin w..."
      ]
     },
     "execution_count": 5,
     "metadata": {},
     "output_type": "execute_result"
    }
   ],
   "source": [
    "print(data.Emotion.value_counts())\n",
    "data.head(6)"
   ]
  },
  {
   "cell_type": "markdown",
   "id": "f49c1c37",
   "metadata": {
    "papermill": {
     "duration": 0.006094,
     "end_time": "2025-04-20T20:16:18.047912",
     "exception": false,
     "start_time": "2025-04-20T20:16:18.041818",
     "status": "completed"
    },
    "tags": []
   },
   "source": [
    "## 2. Prepare input data\n",
    "To input the data to our NN Model we'll need some preprocessing:\n",
    "1. Tokenize our texts and count unique tokens\n",
    "2. Padding: each input (sentence or text) has to be of the same lenght\n",
    "3. Labels have to be converted to integeres and categorized"
   ]
  },
  {
   "cell_type": "markdown",
   "id": "b59a8937",
   "metadata": {
    "papermill": {
     "duration": 0.006374,
     "end_time": "2025-04-20T20:16:18.060644",
     "exception": false,
     "start_time": "2025-04-20T20:16:18.054270",
     "status": "completed"
    },
    "tags": []
   },
   "source": [
    "Basic preprocessing and tokenization using nltk to double check that sentences are properly split into words.\n",
    "We could also add stopword removal but steps like stemming or lemmatization are not needed since we are using word2vec and words with the same stem can have a different meaning"
   ]
  },
  {
   "cell_type": "code",
   "execution_count": 6,
   "id": "ff296e43",
   "metadata": {
    "execution": {
     "iopub.execute_input": "2025-04-20T20:16:18.074325Z",
     "iopub.status.busy": "2025-04-20T20:16:18.074125Z",
     "iopub.status.idle": "2025-04-20T20:16:18.077578Z",
     "shell.execute_reply": "2025-04-20T20:16:18.077076Z"
    },
    "papermill": {
     "duration": 0.011221,
     "end_time": "2025-04-20T20:16:18.078562",
     "exception": false,
     "start_time": "2025-04-20T20:16:18.067341",
     "status": "completed"
    },
    "tags": []
   },
   "outputs": [],
   "source": [
    "def clean_text(data):\n",
    "    \n",
    "    # remove hashtags and @usernames\n",
    "    data = re.sub(r\"(#[\\d\\w\\.]+)\", '', data)\n",
    "    data = re.sub(r\"(@[\\d\\w\\.]+)\", '', data)\n",
    "    \n",
    "    # tekenization using nltk\n",
    "    data = word_tokenize(data)\n",
    "    \n",
    "    return data"
   ]
  },
  {
   "cell_type": "markdown",
   "id": "610c608a",
   "metadata": {
    "papermill": {
     "duration": 0.006101,
     "end_time": "2025-04-20T20:16:18.091041",
     "exception": false,
     "start_time": "2025-04-20T20:16:18.084940",
     "status": "completed"
    },
    "tags": []
   },
   "source": [
    "*Making things easier for keras tokenizer 🙃"
   ]
  },
  {
   "cell_type": "code",
   "execution_count": 7,
   "id": "34b112b6",
   "metadata": {
    "execution": {
     "iopub.execute_input": "2025-04-20T20:16:18.104324Z",
     "iopub.status.busy": "2025-04-20T20:16:18.104148Z",
     "iopub.status.idle": "2025-04-20T20:16:20.472089Z",
     "shell.execute_reply": "2025-04-20T20:16:20.471518Z"
    },
    "papermill": {
     "duration": 2.375917,
     "end_time": "2025-04-20T20:16:20.473420",
     "exception": false,
     "start_time": "2025-04-20T20:16:18.097503",
     "status": "completed"
    },
    "tags": []
   },
   "outputs": [],
   "source": [
    "texts = [' '.join(clean_text(text)) for text in data.Text]\n",
    "\n",
    "texts_train = [' '.join(clean_text(text)) for text in X_train]\n",
    "texts_test = [' '.join(clean_text(text)) for text in X_test]"
   ]
  },
  {
   "cell_type": "code",
   "execution_count": 8,
   "id": "881587c3",
   "metadata": {
    "execution": {
     "iopub.execute_input": "2025-04-20T20:16:20.487420Z",
     "iopub.status.busy": "2025-04-20T20:16:20.487210Z",
     "iopub.status.idle": "2025-04-20T20:16:20.491006Z",
     "shell.execute_reply": "2025-04-20T20:16:20.490386Z"
    },
    "papermill": {
     "duration": 0.011932,
     "end_time": "2025-04-20T20:16:20.492161",
     "exception": false,
     "start_time": "2025-04-20T20:16:20.480229",
     "status": "completed"
    },
    "tags": []
   },
   "outputs": [
    {
     "name": "stdout",
     "output_type": "stream",
     "text": [
      "a bit ? I 'm extremely annoyed that he did n't phone me when he promised me that he would ! He 's such a liar .\n"
     ]
    }
   ],
   "source": [
    "print(texts_train[92])"
   ]
  },
  {
   "cell_type": "markdown",
   "id": "cedc7ce4",
   "metadata": {
    "papermill": {
     "duration": 0.006185,
     "end_time": "2025-04-20T20:16:20.504838",
     "exception": false,
     "start_time": "2025-04-20T20:16:20.498653",
     "status": "completed"
    },
    "tags": []
   },
   "source": [
    "**Tokenization + fitting using keras**"
   ]
  },
  {
   "cell_type": "code",
   "execution_count": 9,
   "id": "579d6707",
   "metadata": {
    "execution": {
     "iopub.execute_input": "2025-04-20T20:16:20.560744Z",
     "iopub.status.busy": "2025-04-20T20:16:20.560176Z",
     "iopub.status.idle": "2025-04-20T20:16:20.837002Z",
     "shell.execute_reply": "2025-04-20T20:16:20.836338Z"
    },
    "papermill": {
     "duration": 0.326947,
     "end_time": "2025-04-20T20:16:20.838069",
     "exception": false,
     "start_time": "2025-04-20T20:16:20.511122",
     "status": "completed"
    },
    "tags": []
   },
   "outputs": [
    {
     "name": "stdout",
     "output_type": "stream",
     "text": [
      "Number of unique words: 12087\n"
     ]
    }
   ],
   "source": [
    "tokenizer = Tokenizer()\n",
    "tokenizer.fit_on_texts(texts)\n",
    "\n",
    "sequence_train = tokenizer.texts_to_sequences(texts_train)\n",
    "sequence_test = tokenizer.texts_to_sequences(texts_test)\n",
    "\n",
    "index_of_words = tokenizer.word_index\n",
    "\n",
    "# vacab size is number of unique words + reserved 0 index for padding\n",
    "vocab_size = len(index_of_words) + 1\n",
    "\n",
    "print('Number of unique words: {}'.format(len(index_of_words)))"
   ]
  },
  {
   "cell_type": "markdown",
   "id": "31659867",
   "metadata": {
    "papermill": {
     "duration": 0.008696,
     "end_time": "2025-04-20T20:16:20.853827",
     "exception": false,
     "start_time": "2025-04-20T20:16:20.845131",
     "status": "completed"
    },
    "tags": []
   },
   "source": [
    "**Padding** -> each input has the same length\n",
    "\n",
    "We defined maximun number of words for our texts and input size to our model has to be fixed - padding with zeros to keep the same input lenght (longest input in our dataset is ~250 words)"
   ]
  },
  {
   "cell_type": "code",
   "execution_count": 10,
   "id": "2656fcdd",
   "metadata": {
    "execution": {
     "iopub.execute_input": "2025-04-20T20:16:20.872359Z",
     "iopub.status.busy": "2025-04-20T20:16:20.871761Z",
     "iopub.status.idle": "2025-04-20T20:16:20.929655Z",
     "shell.execute_reply": "2025-04-20T20:16:20.928373Z"
    },
    "papermill": {
     "duration": 0.067884,
     "end_time": "2025-04-20T20:16:20.931199",
     "exception": false,
     "start_time": "2025-04-20T20:16:20.863315",
     "status": "completed"
    },
    "tags": []
   },
   "outputs": [
    {
     "data": {
      "text/plain": [
       "array([[    0,     0,     0, ...,   119,    51,   345],\n",
       "       [    0,     0,     0, ...,    37,   277,   154],\n",
       "       [    0,     0,     0, ...,    16,     2,  1210],\n",
       "       ...,\n",
       "       [    0,     0,     0, ...,   876,     4,   909],\n",
       "       [    0,     0,     0, ...,     1,     6,   117],\n",
       "       [    0,     0,     0, ..., 10258,   173,    13]], dtype=int32)"
      ]
     },
     "execution_count": 10,
     "metadata": {},
     "output_type": "execute_result"
    }
   ],
   "source": [
    "X_train_pad = pad_sequences(sequence_train, maxlen = max_seq_len )\n",
    "X_test_pad = pad_sequences(sequence_test, maxlen = max_seq_len )\n",
    "\n",
    "X_train_pad"
   ]
  },
  {
   "cell_type": "markdown",
   "id": "b9b6c274",
   "metadata": {
    "papermill": {
     "duration": 0.007503,
     "end_time": "2025-04-20T20:16:20.946735",
     "exception": false,
     "start_time": "2025-04-20T20:16:20.939232",
     "status": "completed"
    },
    "tags": []
   },
   "source": [
    "**Categorize** labels: "
   ]
  },
  {
   "cell_type": "code",
   "execution_count": 11,
   "id": "7c387e6d",
   "metadata": {
    "execution": {
     "iopub.execute_input": "2025-04-20T20:16:20.962528Z",
     "iopub.status.busy": "2025-04-20T20:16:20.962266Z",
     "iopub.status.idle": "2025-04-20T20:16:20.968254Z",
     "shell.execute_reply": "2025-04-20T20:16:20.967500Z"
    },
    "papermill": {
     "duration": 0.0152,
     "end_time": "2025-04-20T20:16:20.969328",
     "exception": false,
     "start_time": "2025-04-20T20:16:20.954128",
     "status": "completed"
    },
    "tags": []
   },
   "outputs": [],
   "source": [
    "encoding = {\n",
    "    'joy': 0,\n",
    "    'fear': 1,\n",
    "    'anger': 2,\n",
    "    'sadness': 3,\n",
    "    'neutral': 4\n",
    "}\n",
    "\n",
    "# Integer labels\n",
    "y_train = [encoding[x] for x in data_train.Emotion]\n",
    "y_test = [encoding[x] for x in data_test.Emotion]"
   ]
  },
  {
   "cell_type": "code",
   "execution_count": 12,
   "id": "316a517a",
   "metadata": {
    "execution": {
     "iopub.execute_input": "2025-04-20T20:16:20.983880Z",
     "iopub.status.busy": "2025-04-20T20:16:20.983657Z",
     "iopub.status.idle": "2025-04-20T20:16:20.989737Z",
     "shell.execute_reply": "2025-04-20T20:16:20.989219Z"
    },
    "papermill": {
     "duration": 0.014299,
     "end_time": "2025-04-20T20:16:20.990691",
     "exception": false,
     "start_time": "2025-04-20T20:16:20.976392",
     "status": "completed"
    },
    "tags": []
   },
   "outputs": [
    {
     "data": {
      "text/plain": [
       "array([[0., 0., 0., 0., 1.],\n",
       "       [0., 0., 0., 1., 0.],\n",
       "       [0., 1., 0., 0., 0.],\n",
       "       ...,\n",
       "       [0., 0., 0., 1., 0.],\n",
       "       [0., 1., 0., 0., 0.],\n",
       "       [0., 0., 1., 0., 0.]])"
      ]
     },
     "execution_count": 12,
     "metadata": {},
     "output_type": "execute_result"
    }
   ],
   "source": [
    "y_train = to_categorical(y_train)\n",
    "y_test = to_categorical(y_test)\n",
    "\n",
    "y_train"
   ]
  },
  {
   "cell_type": "markdown",
   "id": "4050f4df",
   "metadata": {
    "papermill": {
     "duration": 0.006385,
     "end_time": "2025-04-20T20:16:21.003695",
     "exception": false,
     "start_time": "2025-04-20T20:16:20.997310",
     "status": "completed"
    },
    "tags": []
   },
   "source": [
    "## 2. Import pretrained word vectors"
   ]
  },
  {
   "cell_type": "markdown",
   "id": "eef41a70",
   "metadata": {
    "papermill": {
     "duration": 0.006511,
     "end_time": "2025-04-20T20:16:21.016695",
     "exception": false,
     "start_time": "2025-04-20T20:16:21.010184",
     "status": "completed"
    },
    "tags": []
   },
   "source": [
    "* Importing pretrained word2vec from file and creating embedding matrix\n",
    "* We will later map each word in our corpus to existing word vector"
   ]
  },
  {
   "cell_type": "code",
   "execution_count": 13,
   "id": "1d43f2ad",
   "metadata": {
    "execution": {
     "iopub.execute_input": "2025-04-20T20:16:21.030435Z",
     "iopub.status.busy": "2025-04-20T20:16:21.030242Z",
     "iopub.status.idle": "2025-04-20T20:16:21.034451Z",
     "shell.execute_reply": "2025-04-20T20:16:21.033813Z"
    },
    "papermill": {
     "duration": 0.012373,
     "end_time": "2025-04-20T20:16:21.035538",
     "exception": false,
     "start_time": "2025-04-20T20:16:21.023165",
     "status": "completed"
    },
    "tags": []
   },
   "outputs": [],
   "source": [
    "def create_embedding_matrix(filepath, word_index, embedding_dim):\n",
    "    vocab_size = len(word_index) + 1  # Adding again 1 because of reserved 0 index\n",
    "    embedding_matrix = np.zeros((vocab_size, embedding_dim))\n",
    "    with open(filepath) as f:\n",
    "        for line in f:\n",
    "            word, *vector = line.split()\n",
    "            if word in word_index:\n",
    "                idx = word_index[word] \n",
    "                embedding_matrix[idx] = np.array(\n",
    "                    vector, dtype=np.float32)[:embedding_dim]\n",
    "    return embedding_matrix"
   ]
  },
  {
   "cell_type": "markdown",
   "id": "840169c9",
   "metadata": {
    "papermill": {
     "duration": 0.00643,
     "end_time": "2025-04-20T20:16:21.048767",
     "exception": false,
     "start_time": "2025-04-20T20:16:21.042337",
     "status": "completed"
    },
    "tags": []
   },
   "source": [
    "You can download and import any pre-trained word embeddings. I will use 300 dimentional w2v pre-trained on wikipedia articles. Download fast text english vectors: https://fasttext.cc/docs/en/english-vectors.html"
   ]
  },
  {
   "cell_type": "code",
   "execution_count": 14,
   "id": "1dbefabb",
   "metadata": {
    "execution": {
     "iopub.execute_input": "2025-04-20T20:16:21.063083Z",
     "iopub.status.busy": "2025-04-20T20:16:21.062551Z",
     "iopub.status.idle": "2025-04-20T20:16:36.043447Z",
     "shell.execute_reply": "2025-04-20T20:16:36.042509Z"
    },
    "papermill": {
     "duration": 14.98952,
     "end_time": "2025-04-20T20:16:36.044815",
     "exception": false,
     "start_time": "2025-04-20T20:16:21.055295",
     "status": "completed"
    },
    "tags": []
   },
   "outputs": [
    {
     "name": "stdout",
     "output_type": "stream",
     "text": [
      "Downloading word vectors...\n",
      "Unzipping...\n",
      "done.\n"
     ]
    }
   ],
   "source": [
    "import urllib.request\n",
    "import zipfile\n",
    "import os\n",
    "\n",
    "fname = 'embeddings/wiki-news-300d-1M.vec'\n",
    "\n",
    "if not os.path.isfile(fname):\n",
    "    print('Downloading word vectors...')\n",
    "    urllib.request.urlretrieve('https://dl.fbaipublicfiles.com/fasttext/vectors-english/wiki-news-300d-1M.vec.zip',\n",
    "                              'wiki-news-300d-1M.vec.zip')\n",
    "    print('Unzipping...')\n",
    "    with zipfile.ZipFile('wiki-news-300d-1M.vec.zip', 'r') as zip_ref:\n",
    "        zip_ref.extractall('embeddings')\n",
    "    print('done.')\n",
    "    \n",
    "    os.remove('wiki-news-300d-1M.vec.zip')"
   ]
  },
  {
   "cell_type": "code",
   "execution_count": 15,
   "id": "4c407fde",
   "metadata": {
    "execution": {
     "iopub.execute_input": "2025-04-20T20:16:36.060662Z",
     "iopub.status.busy": "2025-04-20T20:16:36.060240Z",
     "iopub.status.idle": "2025-04-20T20:16:52.467949Z",
     "shell.execute_reply": "2025-04-20T20:16:52.467335Z"
    },
    "papermill": {
     "duration": 16.416693,
     "end_time": "2025-04-20T20:16:52.469083",
     "exception": false,
     "start_time": "2025-04-20T20:16:36.052390",
     "status": "completed"
    },
    "tags": []
   },
   "outputs": [
    {
     "data": {
      "text/plain": [
       "(12088, 300)"
      ]
     },
     "execution_count": 15,
     "metadata": {},
     "output_type": "execute_result"
    }
   ],
   "source": [
    "embedd_matrix = create_embedding_matrix(fname, index_of_words, embed_num_dims)\n",
    "embedd_matrix.shape"
   ]
  },
  {
   "cell_type": "markdown",
   "id": "39effcc6",
   "metadata": {
    "papermill": {
     "duration": 0.00686,
     "end_time": "2025-04-20T20:16:52.483356",
     "exception": false,
     "start_time": "2025-04-20T20:16:52.476496",
     "status": "completed"
    },
    "tags": []
   },
   "source": [
    "Some of the words from our corpus were not included in the pre-trained word vectors. If we inspect those words we'll see that it's mostly spelling errors. It's also good to double check the noise in our data f.e different languages or tokenizer errors."
   ]
  },
  {
   "cell_type": "code",
   "execution_count": 16,
   "id": "e92daead",
   "metadata": {
    "execution": {
     "iopub.execute_input": "2025-04-20T20:16:52.498120Z",
     "iopub.status.busy": "2025-04-20T20:16:52.497497Z",
     "iopub.status.idle": "2025-04-20T20:16:52.534742Z",
     "shell.execute_reply": "2025-04-20T20:16:52.534073Z"
    },
    "papermill": {
     "duration": 0.045671,
     "end_time": "2025-04-20T20:16:52.535777",
     "exception": false,
     "start_time": "2025-04-20T20:16:52.490106",
     "status": "completed"
    },
    "scrolled": true,
    "tags": []
   },
   "outputs": [
    {
     "name": "stdout",
     "output_type": "stream",
     "text": [
      "Words found in wiki vocab: 11442\n",
      "New words found: 645\n"
     ]
    }
   ],
   "source": [
    "# Inspect unseen words\n",
    "new_words = 0\n",
    "\n",
    "for word in index_of_words:\n",
    "    entry = embedd_matrix[index_of_words[word]]\n",
    "    if all(v == 0 for v in entry):\n",
    "        new_words = new_words + 1\n",
    "\n",
    "print('Words found in wiki vocab: ' + str(len(index_of_words) - new_words))\n",
    "print('New words found: ' + str(new_words))"
   ]
  },
  {
   "cell_type": "markdown",
   "id": "17dcc5fd",
   "metadata": {
    "papermill": {
     "duration": 0.006703,
     "end_time": "2025-04-20T20:16:52.549274",
     "exception": false,
     "start_time": "2025-04-20T20:16:52.542571",
     "status": "completed"
    },
    "tags": []
   },
   "source": [
    "## 3. Create CNN Pipeline"
   ]
  },
  {
   "cell_type": "markdown",
   "id": "a381dc51",
   "metadata": {
    "papermill": {
     "duration": 0.006797,
     "end_time": "2025-04-20T20:16:52.562939",
     "exception": false,
     "start_time": "2025-04-20T20:16:52.556142",
     "status": "completed"
    },
    "tags": []
   },
   "source": [
    "### Embedding Layer\n",
    "\n",
    "We will use pre-trained word vectors. We could also train our own embedding layer if we don't specify the pre-trained weights \n",
    "\n",
    "* **vocabulary size:** the maximum number of terms that are used to represent a text: e.g. if we set the size of the “vocabulary” to 1000 only the first thousand terms most frequent in the corpus will be considered (and the other terms will be ignored)\n",
    "* **the maximum length:** of the texts (which must all be the same length)\n",
    "* **size of embeddings:** basically, the more dimensions we have the more precise the semantics will be, but beyond a certain threshold we will lose the ability of the embedding to define a coherent and general enough semantic area\n",
    "* **trainable:** True if you want to fine-tune them while training\n"
   ]
  },
  {
   "cell_type": "code",
   "execution_count": 17,
   "id": "7602d35c",
   "metadata": {
    "execution": {
     "iopub.execute_input": "2025-04-20T20:16:52.577811Z",
     "iopub.status.busy": "2025-04-20T20:16:52.577537Z",
     "iopub.status.idle": "2025-04-20T20:16:54.907207Z",
     "shell.execute_reply": "2025-04-20T20:16:54.906368Z"
    },
    "papermill": {
     "duration": 2.338779,
     "end_time": "2025-04-20T20:16:54.908765",
     "exception": false,
     "start_time": "2025-04-20T20:16:52.569986",
     "status": "completed"
    },
    "tags": []
   },
   "outputs": [
    {
     "name": "stderr",
     "output_type": "stream",
     "text": [
      "/usr/local/lib/python3.11/dist-packages/keras/src/layers/core/embedding.py:90: UserWarning: Argument `input_length` is deprecated. Just remove it.\n",
      "  warnings.warn(\n",
      "I0000 00:00:1745180213.738135      19 gpu_device.cc:2022] Created device /job:localhost/replica:0/task:0/device:GPU:0 with 13942 MB memory:  -> device: 0, name: Tesla T4, pci bus id: 0000:00:04.0, compute capability: 7.5\n",
      "I0000 00:00:1745180213.738791      19 gpu_device.cc:2022] Created device /job:localhost/replica:0/task:0/device:GPU:1 with 13942 MB memory:  -> device: 1, name: Tesla T4, pci bus id: 0000:00:05.0, compute capability: 7.5\n"
     ]
    }
   ],
   "source": [
    "# Embedding layer before the actaul BLSTM \n",
    "embedd_layer = Embedding(vocab_size,\n",
    "                         embed_num_dims,\n",
    "                         input_length = max_seq_len,\n",
    "                         weights = [embedd_matrix],\n",
    "                         trainable=False)"
   ]
  },
  {
   "cell_type": "markdown",
   "id": "6e6361b0",
   "metadata": {
    "papermill": {
     "duration": 0.007039,
     "end_time": "2025-04-20T20:16:54.923433",
     "exception": false,
     "start_time": "2025-04-20T20:16:54.916394",
     "status": "completed"
    },
    "tags": []
   },
   "source": [
    "### Model Pipeline\n",
    "- the input is the first N words of each text (with proper padding)\n",
    "- the first level creates embedding of words, using vocabulary with a certain dimension, and a given size of embeddings\n",
    "- we will use 1D convolutional neural network to extract features from our data. The result of each convolution will fire when a special pattern is detected. By varying the size of the kernels and concatenating their outputs, you’re allowing yourself to detect patterns of multiples sizes (2, 3, or 5 adjacent words)\n",
    "- the output level has a number of neurons equal to the classes of the problem and a “softmax” activation function"
   ]
  },
  {
   "cell_type": "code",
   "execution_count": 18,
   "id": "b76117ad",
   "metadata": {
    "execution": {
     "iopub.execute_input": "2025-04-20T20:16:54.938289Z",
     "iopub.status.busy": "2025-04-20T20:16:54.938052Z",
     "iopub.status.idle": "2025-04-20T20:16:54.945262Z",
     "shell.execute_reply": "2025-04-20T20:16:54.944770Z"
    },
    "papermill": {
     "duration": 0.016109,
     "end_time": "2025-04-20T20:16:54.946529",
     "exception": false,
     "start_time": "2025-04-20T20:16:54.930420",
     "status": "completed"
    },
    "tags": []
   },
   "outputs": [],
   "source": [
    "# Convolution\n",
    "kernel_size = 3\n",
    "filters = 256\n",
    "\n",
    "model = Sequential()\n",
    "model.add(embedd_layer)\n",
    "model.add(Conv1D(filters, kernel_size, activation='relu'))\n",
    "model.add(GlobalMaxPooling1D())\n",
    "model.add(Dense(256, activation='relu'))\n",
    "model.add(Dense(num_classes, activation='softmax'))"
   ]
  },
  {
   "cell_type": "code",
   "execution_count": 19,
   "id": "c57d2021",
   "metadata": {
    "execution": {
     "iopub.execute_input": "2025-04-20T20:16:54.961083Z",
     "iopub.status.busy": "2025-04-20T20:16:54.960904Z",
     "iopub.status.idle": "2025-04-20T20:16:54.985309Z",
     "shell.execute_reply": "2025-04-20T20:16:54.984651Z"
    },
    "papermill": {
     "duration": 0.032816,
     "end_time": "2025-04-20T20:16:54.986331",
     "exception": false,
     "start_time": "2025-04-20T20:16:54.953515",
     "status": "completed"
    },
    "tags": []
   },
   "outputs": [
    {
     "data": {
      "text/html": [
       "<pre style=\"white-space:pre;overflow-x:auto;line-height:normal;font-family:Menlo,'DejaVu Sans Mono',consolas,'Courier New',monospace\"><span style=\"font-weight: bold\">Model: \"sequential\"</span>\n",
       "</pre>\n"
      ],
      "text/plain": [
       "\u001b[1mModel: \"sequential\"\u001b[0m\n"
      ]
     },
     "metadata": {},
     "output_type": "display_data"
    },
    {
     "data": {
      "text/html": [
       "<pre style=\"white-space:pre;overflow-x:auto;line-height:normal;font-family:Menlo,'DejaVu Sans Mono',consolas,'Courier New',monospace\">┏━━━━━━━━━━━━━━━━━━━━━━━━━━━━━━━━━━━━━━┳━━━━━━━━━━━━━━━━━━━━━━━━━━━━━┳━━━━━━━━━━━━━━━━━┓\n",
       "┃<span style=\"font-weight: bold\"> Layer (type)                         </span>┃<span style=\"font-weight: bold\"> Output Shape                </span>┃<span style=\"font-weight: bold\">         Param # </span>┃\n",
       "┡━━━━━━━━━━━━━━━━━━━━━━━━━━━━━━━━━━━━━━╇━━━━━━━━━━━━━━━━━━━━━━━━━━━━━╇━━━━━━━━━━━━━━━━━┩\n",
       "│ embedding (<span style=\"color: #0087ff; text-decoration-color: #0087ff\">Embedding</span>)                │ ?                           │       <span style=\"color: #00af00; text-decoration-color: #00af00\">3,626,400</span> │\n",
       "├──────────────────────────────────────┼─────────────────────────────┼─────────────────┤\n",
       "│ conv1d (<span style=\"color: #0087ff; text-decoration-color: #0087ff\">Conv1D</span>)                      │ ?                           │     <span style=\"color: #00af00; text-decoration-color: #00af00\">0</span> (unbuilt) │\n",
       "├──────────────────────────────────────┼─────────────────────────────┼─────────────────┤\n",
       "│ global_max_pooling1d                 │ ?                           │     <span style=\"color: #00af00; text-decoration-color: #00af00\">0</span> (unbuilt) │\n",
       "│ (<span style=\"color: #0087ff; text-decoration-color: #0087ff\">GlobalMaxPooling1D</span>)                 │                             │                 │\n",
       "├──────────────────────────────────────┼─────────────────────────────┼─────────────────┤\n",
       "│ dense (<span style=\"color: #0087ff; text-decoration-color: #0087ff\">Dense</span>)                        │ ?                           │     <span style=\"color: #00af00; text-decoration-color: #00af00\">0</span> (unbuilt) │\n",
       "├──────────────────────────────────────┼─────────────────────────────┼─────────────────┤\n",
       "│ dense_1 (<span style=\"color: #0087ff; text-decoration-color: #0087ff\">Dense</span>)                      │ ?                           │     <span style=\"color: #00af00; text-decoration-color: #00af00\">0</span> (unbuilt) │\n",
       "└──────────────────────────────────────┴─────────────────────────────┴─────────────────┘\n",
       "</pre>\n"
      ],
      "text/plain": [
       "┏━━━━━━━━━━━━━━━━━━━━━━━━━━━━━━━━━━━━━━┳━━━━━━━━━━━━━━━━━━━━━━━━━━━━━┳━━━━━━━━━━━━━━━━━┓\n",
       "┃\u001b[1m \u001b[0m\u001b[1mLayer (type)                        \u001b[0m\u001b[1m \u001b[0m┃\u001b[1m \u001b[0m\u001b[1mOutput Shape               \u001b[0m\u001b[1m \u001b[0m┃\u001b[1m \u001b[0m\u001b[1m        Param #\u001b[0m\u001b[1m \u001b[0m┃\n",
       "┡━━━━━━━━━━━━━━━━━━━━━━━━━━━━━━━━━━━━━━╇━━━━━━━━━━━━━━━━━━━━━━━━━━━━━╇━━━━━━━━━━━━━━━━━┩\n",
       "│ embedding (\u001b[38;5;33mEmbedding\u001b[0m)                │ ?                           │       \u001b[38;5;34m3,626,400\u001b[0m │\n",
       "├──────────────────────────────────────┼─────────────────────────────┼─────────────────┤\n",
       "│ conv1d (\u001b[38;5;33mConv1D\u001b[0m)                      │ ?                           │     \u001b[38;5;34m0\u001b[0m (unbuilt) │\n",
       "├──────────────────────────────────────┼─────────────────────────────┼─────────────────┤\n",
       "│ global_max_pooling1d                 │ ?                           │     \u001b[38;5;34m0\u001b[0m (unbuilt) │\n",
       "│ (\u001b[38;5;33mGlobalMaxPooling1D\u001b[0m)                 │                             │                 │\n",
       "├──────────────────────────────────────┼─────────────────────────────┼─────────────────┤\n",
       "│ dense (\u001b[38;5;33mDense\u001b[0m)                        │ ?                           │     \u001b[38;5;34m0\u001b[0m (unbuilt) │\n",
       "├──────────────────────────────────────┼─────────────────────────────┼─────────────────┤\n",
       "│ dense_1 (\u001b[38;5;33mDense\u001b[0m)                      │ ?                           │     \u001b[38;5;34m0\u001b[0m (unbuilt) │\n",
       "└──────────────────────────────────────┴─────────────────────────────┴─────────────────┘\n"
      ]
     },
     "metadata": {},
     "output_type": "display_data"
    },
    {
     "data": {
      "text/html": [
       "<pre style=\"white-space:pre;overflow-x:auto;line-height:normal;font-family:Menlo,'DejaVu Sans Mono',consolas,'Courier New',monospace\"><span style=\"font-weight: bold\"> Total params: </span><span style=\"color: #00af00; text-decoration-color: #00af00\">3,626,400</span> (13.83 MB)\n",
       "</pre>\n"
      ],
      "text/plain": [
       "\u001b[1m Total params: \u001b[0m\u001b[38;5;34m3,626,400\u001b[0m (13.83 MB)\n"
      ]
     },
     "metadata": {},
     "output_type": "display_data"
    },
    {
     "data": {
      "text/html": [
       "<pre style=\"white-space:pre;overflow-x:auto;line-height:normal;font-family:Menlo,'DejaVu Sans Mono',consolas,'Courier New',monospace\"><span style=\"font-weight: bold\"> Trainable params: </span><span style=\"color: #00af00; text-decoration-color: #00af00\">0</span> (0.00 B)\n",
       "</pre>\n"
      ],
      "text/plain": [
       "\u001b[1m Trainable params: \u001b[0m\u001b[38;5;34m0\u001b[0m (0.00 B)\n"
      ]
     },
     "metadata": {},
     "output_type": "display_data"
    },
    {
     "data": {
      "text/html": [
       "<pre style=\"white-space:pre;overflow-x:auto;line-height:normal;font-family:Menlo,'DejaVu Sans Mono',consolas,'Courier New',monospace\"><span style=\"font-weight: bold\"> Non-trainable params: </span><span style=\"color: #00af00; text-decoration-color: #00af00\">3,626,400</span> (13.83 MB)\n",
       "</pre>\n"
      ],
      "text/plain": [
       "\u001b[1m Non-trainable params: \u001b[0m\u001b[38;5;34m3,626,400\u001b[0m (13.83 MB)\n"
      ]
     },
     "metadata": {},
     "output_type": "display_data"
    }
   ],
   "source": [
    "model.compile(loss = 'categorical_crossentropy', optimizer = 'adam', metrics = ['accuracy'])\n",
    "model.summary()"
   ]
  },
  {
   "cell_type": "markdown",
   "id": "47af6175",
   "metadata": {
    "papermill": {
     "duration": 0.007447,
     "end_time": "2025-04-20T20:16:55.001496",
     "exception": false,
     "start_time": "2025-04-20T20:16:54.994049",
     "status": "completed"
    },
    "tags": []
   },
   "source": [
    "## 3. Train the Model"
   ]
  },
  {
   "cell_type": "code",
   "execution_count": 20,
   "id": "0ab5ea79",
   "metadata": {
    "execution": {
     "iopub.execute_input": "2025-04-20T20:16:55.016825Z",
     "iopub.status.busy": "2025-04-20T20:16:55.016573Z",
     "iopub.status.idle": "2025-04-20T20:17:13.944101Z",
     "shell.execute_reply": "2025-04-20T20:17:13.943534Z"
    },
    "papermill": {
     "duration": 18.93656,
     "end_time": "2025-04-20T20:17:13.945246",
     "exception": false,
     "start_time": "2025-04-20T20:16:55.008686",
     "status": "completed"
    },
    "tags": []
   },
   "outputs": [
    {
     "name": "stdout",
     "output_type": "stream",
     "text": [
      "Epoch 1/6\n"
     ]
    },
    {
     "name": "stderr",
     "output_type": "stream",
     "text": [
      "WARNING: All log messages before absl::InitializeLog() is called are written to STDERR\n",
      "I0000 00:00:1745180216.974695      67 service.cc:148] XLA service 0x7b9804008660 initialized for platform CUDA (this does not guarantee that XLA will be used). Devices:\n",
      "I0000 00:00:1745180216.975216      67 service.cc:156]   StreamExecutor device (0): Tesla T4, Compute Capability 7.5\n",
      "I0000 00:00:1745180216.975237      67 service.cc:156]   StreamExecutor device (1): Tesla T4, Compute Capability 7.5\n",
      "I0000 00:00:1745180217.175451      67 cuda_dnn.cc:529] Loaded cuDNN version 90300\n"
     ]
    },
    {
     "name": "stdout",
     "output_type": "stream",
     "text": [
      "\u001b[1m 3/31\u001b[0m \u001b[32m━\u001b[0m\u001b[37m━━━━━━━━━━━━━━━━━━━\u001b[0m \u001b[1m1s\u001b[0m 53ms/step - accuracy: 0.2083 - loss: 1.6062"
     ]
    },
    {
     "name": "stderr",
     "output_type": "stream",
     "text": [
      "I0000 00:00:1745180219.733975      67 device_compiler.h:188] Compiled cluster using XLA!  This line is logged at most once for the lifetime of the process.\n"
     ]
    },
    {
     "name": "stdout",
     "output_type": "stream",
     "text": [
      "\u001b[1m31/31\u001b[0m \u001b[32m━━━━━━━━━━━━━━━━━━━━\u001b[0m\u001b[37m\u001b[0m \u001b[1m10s\u001b[0m 183ms/step - accuracy: 0.3418 - loss: 1.4787 - val_accuracy: 0.5724 - val_loss: 1.1175\n",
      "Epoch 2/6\n",
      "\u001b[1m31/31\u001b[0m \u001b[32m━━━━━━━━━━━━━━━━━━━━\u001b[0m\u001b[37m\u001b[0m \u001b[1m2s\u001b[0m 55ms/step - accuracy: 0.6750 - loss: 0.9175 - val_accuracy: 0.7067 - val_loss: 0.7979\n",
      "Epoch 3/6\n",
      "\u001b[1m31/31\u001b[0m \u001b[32m━━━━━━━━━━━━━━━━━━━━\u001b[0m\u001b[37m\u001b[0m \u001b[1m2s\u001b[0m 55ms/step - accuracy: 0.7885 - loss: 0.6096 - val_accuracy: 0.7386 - val_loss: 0.7344\n",
      "Epoch 4/6\n",
      "\u001b[1m31/31\u001b[0m \u001b[32m━━━━━━━━━━━━━━━━━━━━\u001b[0m\u001b[37m\u001b[0m \u001b[1m2s\u001b[0m 56ms/step - accuracy: 0.8503 - loss: 0.4817 - val_accuracy: 0.7510 - val_loss: 0.7128\n",
      "Epoch 5/6\n",
      "\u001b[1m31/31\u001b[0m \u001b[32m━━━━━━━━━━━━━━━━━━━━\u001b[0m\u001b[37m\u001b[0m \u001b[1m2s\u001b[0m 55ms/step - accuracy: 0.8898 - loss: 0.3772 - val_accuracy: 0.7515 - val_loss: 0.7062\n",
      "Epoch 6/6\n",
      "\u001b[1m31/31\u001b[0m \u001b[32m━━━━━━━━━━━━━━━━━━━━\u001b[0m\u001b[37m\u001b[0m \u001b[1m2s\u001b[0m 55ms/step - accuracy: 0.9333 - loss: 0.2765 - val_accuracy: 0.7551 - val_loss: 0.7134\n"
     ]
    }
   ],
   "source": [
    "batch_size = 256\n",
    "epochs = 6\n",
    "\n",
    "hist = model.fit(X_train_pad, y_train, \n",
    "                 batch_size=batch_size,\n",
    "                 epochs=epochs,\n",
    "                 validation_data=(X_test_pad,y_test))"
   ]
  },
  {
   "cell_type": "code",
   "execution_count": 21,
   "id": "ead9c666",
   "metadata": {
    "execution": {
     "iopub.execute_input": "2025-04-20T20:17:13.972684Z",
     "iopub.status.busy": "2025-04-20T20:17:13.972436Z",
     "iopub.status.idle": "2025-04-20T20:17:14.340445Z",
     "shell.execute_reply": "2025-04-20T20:17:14.339791Z"
    },
    "papermill": {
     "duration": 0.382507,
     "end_time": "2025-04-20T20:17:14.341537",
     "exception": false,
     "start_time": "2025-04-20T20:17:13.959030",
     "status": "completed"
    },
    "tags": []
   },
   "outputs": [
    {
     "data": {
      "image/png": "[encoded data removed]",
      "text/plain": [
       "<Figure size 640x480 with 1 Axes>"
      ]
     },
     "metadata": {},
     "output_type": "display_data"
    },
    {
     "data": {
      "image/png": "[encoded data removed]",
      "text/plain": [
       "<Figure size 640x480 with 1 Axes>"
      ]
     },
     "metadata": {},
     "output_type": "display_data"
    }
   ],
   "source": [
    "# Accuracy plot\n",
    "plt.plot(hist.history['accuracy'])\n",
    "plt.plot(hist.history['val_accuracy'])\n",
    "plt.title('Model Accuracy')\n",
    "plt.ylabel('Accuracy')\n",
    "plt.xlabel('Epoch')\n",
    "plt.legend(['Train', 'Validation'], loc='upper left')\n",
    "plt.show()\n",
    "\n",
    "# Loss plot\n",
    "plt.plot(hist.history['loss'])\n",
    "plt.plot(hist.history['val_loss'])\n",
    "plt.title('Model Loss')\n",
    "plt.ylabel('Loss')\n",
    "plt.xlabel('Epoch')\n",
    "plt.legend(['Train', 'Validation'], loc='upper left')\n",
    "plt.show()\n"
   ]
  },
  {
   "cell_type": "markdown",
   "id": "8f9c4362",
   "metadata": {
    "papermill": {
     "duration": 0.013168,
     "end_time": "2025-04-20T20:17:14.368820",
     "exception": false,
     "start_time": "2025-04-20T20:17:14.355652",
     "status": "completed"
    },
    "tags": []
   },
   "source": [
    "## 4. Evaluation"
   ]
  },
  {
   "cell_type": "code",
   "execution_count": 22,
   "id": "252b0327",
   "metadata": {
    "execution": {
     "iopub.execute_input": "2025-04-20T20:17:14.396236Z",
     "iopub.status.busy": "2025-04-20T20:17:14.396027Z",
     "iopub.status.idle": "2025-04-20T20:17:15.471367Z",
     "shell.execute_reply": "2025-04-20T20:17:15.470803Z"
    },
    "papermill": {
     "duration": 1.090373,
     "end_time": "2025-04-20T20:17:15.472529",
     "exception": false,
     "start_time": "2025-04-20T20:17:14.382156",
     "status": "completed"
    },
    "tags": []
   },
   "outputs": [
    {
     "name": "stdout",
     "output_type": "stream",
     "text": [
      "\u001b[1m107/107\u001b[0m \u001b[32m━━━━━━━━━━━━━━━━━━━━\u001b[0m\u001b[37m\u001b[0m \u001b[1m1s\u001b[0m 5ms/step\n"
     ]
    }
   ],
   "source": [
    "predictions = model.predict(X_test_pad)\n",
    "predictions = np.argmax(predictions, axis=1)\n",
    "predictions = [class_names[pred] for pred in predictions]"
   ]
  },
  {
   "cell_type": "code",
   "execution_count": 23,
   "id": "1f95f294",
   "metadata": {
    "execution": {
     "iopub.execute_input": "2025-04-20T20:17:15.501310Z",
     "iopub.status.busy": "2025-04-20T20:17:15.501118Z",
     "iopub.status.idle": "2025-04-20T20:17:15.526456Z",
     "shell.execute_reply": "2025-04-20T20:17:15.525868Z"
    },
    "papermill": {
     "duration": 0.040354,
     "end_time": "2025-04-20T20:17:15.527440",
     "exception": false,
     "start_time": "2025-04-20T20:17:15.487086",
     "status": "completed"
    },
    "tags": []
   },
   "outputs": [
    {
     "name": "stdout",
     "output_type": "stream",
     "text": [
      "Accuracy: 75.51%\n",
      "\n",
      "F1 Score: 75.51\n"
     ]
    }
   ],
   "source": [
    "print(\"Accuracy: {:.2f}%\".format(accuracy_score(data_test.Emotion, predictions) * 100))\n",
    "print(\"\\nF1 Score: {:.2f}\".format(f1_score(data_test.Emotion, predictions, average='micro') * 100))"
   ]
  },
  {
   "cell_type": "markdown",
   "id": "4b928c32",
   "metadata": {
    "papermill": {
     "duration": 0.013457,
     "end_time": "2025-04-20T20:17:15.554393",
     "exception": false,
     "start_time": "2025-04-20T20:17:15.540936",
     "status": "completed"
    },
    "tags": []
   },
   "source": [
    "#### Plotting confusion Matrix:"
   ]
  },
  {
   "cell_type": "code",
   "execution_count": 24,
   "id": "f10ce643",
   "metadata": {
    "execution": {
     "iopub.execute_input": "2025-04-20T20:17:15.582566Z",
     "iopub.status.busy": "2025-04-20T20:17:15.582373Z",
     "iopub.status.idle": "2025-04-20T20:17:15.588998Z",
     "shell.execute_reply": "2025-04-20T20:17:15.588508Z"
    },
    "papermill": {
     "duration": 0.021732,
     "end_time": "2025-04-20T20:17:15.590012",
     "exception": false,
     "start_time": "2025-04-20T20:17:15.568280",
     "status": "completed"
    },
    "tags": []
   },
   "outputs": [],
   "source": [
    "def plot_confusion_matrix(y_true, y_pred, classes,\n",
    "                          normalize=False,\n",
    "                          title=None,\n",
    "                          cmap=plt.cm.Blues):\n",
    "    '''\n",
    "    This function prints and plots the confusion matrix.\n",
    "    Normalization can be applied by setting `normalize=True`.\n",
    "    '''\n",
    "    if not title:\n",
    "        if normalize:\n",
    "            title = 'Normalized confusion matrix'\n",
    "        else:\n",
    "            title = 'Confusion matrix, without normalization'\n",
    "\n",
    "    # Compute confusion matrix\n",
    "    cm = confusion_matrix(y_true, y_pred)\n",
    "\n",
    "    if normalize:\n",
    "        cm = cm.astype('float') / cm.sum(axis=1)[:, np.newaxis]\n",
    "\n",
    "    fig, ax = plt.subplots()\n",
    "    \n",
    "    # Set size\n",
    "    fig.set_size_inches(12.5, 7.5)\n",
    "    im = ax.imshow(cm, interpolation='nearest', cmap=cmap)\n",
    "    ax.figure.colorbar(im, ax=ax)\n",
    "    ax.grid(False)\n",
    "    \n",
    "    # We want to show all ticks...\n",
    "    ax.set(xticks=np.arange(cm.shape[1]),\n",
    "           yticks=np.arange(cm.shape[0]),\n",
    "           # ... and label them with the respective list entries\n",
    "           xticklabels=classes, yticklabels=classes,\n",
    "           title=title,\n",
    "           ylabel='True label',\n",
    "           xlabel='Predicted label')\n",
    "\n",
    "    # Rotate the tick labels and set their alignment.\n",
    "    plt.setp(ax.get_xticklabels(), rotation=45, ha=\"right\",\n",
    "             rotation_mode=\"anchor\")\n",
    "\n",
    "    # Loop over data dimensions and create text annotations.\n",
    "    fmt = '.2f' if normalize else 'd'\n",
    "    thresh = cm.max() / 2.\n",
    "    for i in range(cm.shape[0]):\n",
    "        for j in range(cm.shape[1]):\n",
    "            ax.text(j, i, format(cm[i, j], fmt),\n",
    "                    ha=\"center\", va=\"center\",\n",
    "                    color=\"white\" if cm[i, j] > thresh else \"black\")\n",
    "    fig.tight_layout()\n",
    "    return ax"
   ]
  },
  {
   "cell_type": "code",
   "execution_count": 25,
   "id": "94ec0728",
   "metadata": {
    "execution": {
     "iopub.execute_input": "2025-04-20T20:17:15.618327Z",
     "iopub.status.busy": "2025-04-20T20:17:15.618128Z",
     "iopub.status.idle": "2025-04-20T20:17:15.917797Z",
     "shell.execute_reply": "2025-04-20T20:17:15.917021Z"
    },
    "papermill": {
     "duration": 0.315135,
     "end_time": "2025-04-20T20:17:15.918972",
     "exception": false,
     "start_time": "2025-04-20T20:17:15.603837",
     "status": "completed"
    },
    "tags": []
   },
   "outputs": [
    {
     "name": "stdout",
     "output_type": "stream",
     "text": [
      "\n",
      "F1 Score: 75.51\n"
     ]
    },
    {
     "data": {
      "image/png": "[encoded data removed]",
      "text/plain": [
       "<Figure size 1250x750 with 2 Axes>"
      ]
     },
     "metadata": {},
     "output_type": "display_data"
    }
   ],
   "source": [
    "print(\"\\nF1 Score: {:.2f}\".format(f1_score(data_test.Emotion, predictions, average='micro') * 100))\n",
    "\n",
    "# Plot normalized confusion matrix\n",
    "plot_confusion_matrix(data_test.Emotion, predictions, classes=class_names, normalize=True, title='Normalized confusion matrix')\n",
    "plt.show()"
   ]
  },
  {
   "cell_type": "markdown",
   "id": "342229fe",
   "metadata": {
    "papermill": {
     "duration": 0.016628,
     "end_time": "2025-04-20T20:17:15.951595",
     "exception": false,
     "start_time": "2025-04-20T20:17:15.934967",
     "status": "completed"
    },
    "tags": []
   },
   "source": [
    "#### Let's try other inputs:"
   ]
  },
  {
   "cell_type": "code",
   "execution_count": 26,
   "id": "00d32027",
   "metadata": {
    "execution": {
     "iopub.execute_input": "2025-04-20T20:17:15.983518Z",
     "iopub.status.busy": "2025-04-20T20:17:15.983091Z",
     "iopub.status.idle": "2025-04-20T20:17:15.987174Z",
     "shell.execute_reply": "2025-04-20T20:17:15.986397Z"
    },
    "papermill": {
     "duration": 0.021279,
     "end_time": "2025-04-20T20:17:15.988324",
     "exception": false,
     "start_time": "2025-04-20T20:17:15.967045",
     "status": "completed"
    },
    "tags": []
   },
   "outputs": [
    {
     "name": "stdout",
     "output_type": "stream",
     "text": [
      "Message: My boyfriend didn't turn up after promising that he was coming.\n",
      "Predicted: sadness\n"
     ]
    }
   ],
   "source": [
    "print('Message: {}\\nPredicted: {}'.format(X_test[4], predictions[4]))"
   ]
  },
  {
   "cell_type": "code",
   "execution_count": 27,
   "id": "1cee1544",
   "metadata": {
    "execution": {
     "iopub.execute_input": "2025-04-20T20:17:16.019768Z",
     "iopub.status.busy": "2025-04-20T20:17:16.019533Z",
     "iopub.status.idle": "2025-04-20T20:17:16.084308Z",
     "shell.execute_reply": "2025-04-20T20:17:16.083726Z"
    },
    "papermill": {
     "duration": 0.081253,
     "end_time": "2025-04-20T20:17:16.085298",
     "exception": false,
     "start_time": "2025-04-20T20:17:16.004045",
     "status": "completed"
    },
    "tags": []
   },
   "outputs": [
    {
     "name": "stdout",
     "output_type": "stream",
     "text": [
      "\u001b[1m1/1\u001b[0m \u001b[32m━━━━━━━━━━━━━━━━━━━━\u001b[0m\u001b[37m\u001b[0m \u001b[1m0s\u001b[0m 16ms/step\n",
      "Message: ['delivery was hour late and my pizza was cold!']\n",
      "predicted: anger (0.06 seconds)\n"
     ]
    }
   ],
   "source": [
    "import time\n",
    "\n",
    "message = ['delivery was hour late and my pizza was cold!']\n",
    "\n",
    "seq = tokenizer.texts_to_sequences(message)\n",
    "padded = pad_sequences(seq, maxlen=max_seq_len)\n",
    "\n",
    "start_time = time.time()\n",
    "pred = model.predict(padded)\n",
    "\n",
    "print('Message: ' + str(message))\n",
    "print('predicted: {} ({:.2f} seconds)'.format(class_names[np.argmax(pred)], (time.time() - start_time)))"
   ]
  },
  {
   "cell_type": "markdown",
   "id": "04c29fde",
   "metadata": {
    "papermill": {
     "duration": 0.015348,
     "end_time": "2025-04-20T20:17:16.117165",
     "exception": false,
     "start_time": "2025-04-20T20:17:16.101817",
     "status": "completed"
    },
    "tags": []
   },
   "source": [
    "# Done\n",
    "Save the model for later use 🙃 "
   ]
  },
  {
   "cell_type": "code",
   "execution_count": 28,
   "id": "e3225cd3",
   "metadata": {
    "execution": {
     "iopub.execute_input": "2025-04-20T20:17:16.148726Z",
     "iopub.status.busy": "2025-04-20T20:17:16.148314Z",
     "iopub.status.idle": "2025-04-20T20:17:16.213067Z",
     "shell.execute_reply": "2025-04-20T20:17:16.212527Z"
    },
    "papermill": {
     "duration": 0.08186,
     "end_time": "2025-04-20T20:17:16.214185",
     "exception": false,
     "start_time": "2025-04-20T20:17:16.132325",
     "status": "completed"
    },
    "tags": []
   },
   "outputs": [],
   "source": [
    "# creates a HDF5 file 'my_model.h5'\n",
    "model.save('models/cnn_w2v.h5')"
   ]
  },
  {
   "cell_type": "code",
   "execution_count": 29,
   "id": "1deb6f0b",
   "metadata": {
    "execution": {
     "iopub.execute_input": "2025-04-20T20:17:16.246008Z",
     "iopub.status.busy": "2025-04-20T20:17:16.245821Z",
     "iopub.status.idle": "2025-04-20T20:17:16.311378Z",
     "shell.execute_reply": "2025-04-20T20:17:16.310884Z"
    },
    "papermill": {
     "duration": 0.082631,
     "end_time": "2025-04-20T20:17:16.312627",
     "exception": false,
     "start_time": "2025-04-20T20:17:16.229996",
     "status": "completed"
    },
    "tags": []
   },
   "outputs": [],
   "source": [
    "from keras.models import load_model\n",
    "predictor = load_model('models/cnn_w2v.h5')"
   ]
  },
  {
   "cell_type": "code",
   "execution_count": 30,
   "id": "7174f898",
   "metadata": {
    "execution": {
     "iopub.execute_input": "2025-04-20T20:17:16.344729Z",
     "iopub.status.busy": "2025-04-20T20:17:16.344500Z",
     "iopub.status.idle": "2025-04-20T20:17:16.405997Z",
     "shell.execute_reply": "2025-04-20T20:17:16.405303Z"
    },
    "papermill": {
     "duration": 0.078425,
     "end_time": "2025-04-20T20:17:16.407190",
     "exception": false,
     "start_time": "2025-04-20T20:17:16.328765",
     "status": "completed"
    },
    "tags": []
   },
   "outputs": [
    {
     "name": "stdout",
     "output_type": "stream",
     "text": [
      "\u001b[1m1/1\u001b[0m \u001b[32m━━━━━━━━━━━━━━━━━━━━\u001b[0m\u001b[37m\u001b[0m \u001b[1m0s\u001b[0m 16ms/step\n",
      "anger\n"
     ]
    }
   ],
   "source": [
    "def predict_emotion(message):\n",
    "    seq = tokenizer.texts_to_sequences([message])  # Tokenize\n",
    "    padded = pad_sequences(seq, maxlen=500)  # Pad sequence\n",
    "    pred = model.predict(padded)  # Predict\n",
    "    return class_names[np.argmax(pred)]  # Get the predicted emotion\n",
    "\n",
    "# Example usage\n",
    "message = \"delivery was an hour late and my pizza was cold!\"\n",
    "print(predict_emotion(message))\n"
   ]
  }
 ],
 "metadata": {
  "kaggle": {
   "accelerator": "nvidiaTeslaT4",
   "dataSources": [
    {
     "datasetId": 7201228,
     "sourceId": 11488620,
     "sourceType": "datasetVersion"
    }
   ],
   "dockerImageVersionId": 31011,
   "isGpuEnabled": true,
   "isInternetEnabled": true,
   "language": "python",
   "sourceType": "notebook"
  },
  "kernelspec": {
   "display_name": "Python 3",
   "language": "python",
   "name": "python3"
  },
  "language_info": {
   "codemirror_mode": {
    "name": "ipython",
    "version": 3
   },
   "file_extension": ".py",
   "mimetype": "text/x-python",
   "name": "python",
   "nbconvert_exporter": "python",
   "pygments_lexer": "ipython3",
   "version": "3.11.11"
  },
  "papermill": {
   "default_parameters": {},
   "duration": 84.217392,
   "end_time": "2025-04-20T20:17:19.182913",
   "environment_variables": {},
   "exception": null,
   "input_path": "__notebook__.ipynb",
   "output_path": "__notebook__.ipynb",
   "parameters": {},
   "start_time": "2025-04-20T20:15:54.965521",
   "version": "2.6.0"
  }
 },
 "nbformat": 4,
 "nbformat_minor": 5
}
